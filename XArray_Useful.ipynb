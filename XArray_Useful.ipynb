{
 "cells": [
  {
   "cell_type": "code",
   "execution_count": 17,
   "id": "7bfe7fc3",
   "metadata": {},
   "outputs": [],
   "source": [
    "import matplotlib.pyplot as plt\n",
    "import numpy as np\n",
    "import pandas as pd\n",
    "import datetime\n",
    "import netCDF4 as nc\n",
    "import xarray as xr\n",
    "from natsort import natsorted\n",
    "from netCDF4 import num2date\n",
    "import cmocean as cmo\n",
    "import seawater as sw"
   ]
  },
  {
   "cell_type": "code",
   "execution_count": 2,
   "id": "b47a0606",
   "metadata": {},
   "outputs": [],
   "source": [
    "### Loading geostrophic velocity data from altimeter\n",
    "Ugeo = xr.open_dataset('/home/joao/Downloads/Projeto_BS/vgeos93-19.nc')"
   ]
  },
  {
   "cell_type": "code",
   "execution_count": 3,
   "id": "cf910bfb",
   "metadata": {},
   "outputs": [],
   "source": [
    "#### Slicing and obtaining running-mean for a selected area\n",
    "\n",
    "Usmean = Ugeo.sel(latitude=slice(-32, -26),longitude=slice(308,316))['ugos'].rolling(time=60,center=True,min_periods=1).mean()\n",
    "Vsmean = Ugeo.sel(latitude=slice(-32, -26),longitude=slice(308,316))['vgos'].rolling(time=60,center=True,min_periods=1).mean()"
   ]
  },
  {
   "cell_type": "code",
   "execution_count": 4,
   "id": "809d3c7d",
   "metadata": {},
   "outputs": [],
   "source": [
    "### Obtaining the anomalies for the sliced area\n",
    "\n",
    "Uprime = Ugeo.sel(latitude=slice(-32, -26),longitude=slice(308,316))['ugos']-Usmean\n",
    "Vprime = Ugeo.sel(latitude=slice(-32,-26),longitude=slice(308,316))['vgos']-Vsmean"
   ]
  },
  {
   "cell_type": "code",
   "execution_count": 5,
   "id": "f18d5cc3",
   "metadata": {},
   "outputs": [],
   "source": [
    "#### Running mean (60 days, centered) for the anomalies\n",
    "Uprime_mean = Uprime.rolling(time=60,center=True,min_periods=1).mean()\n",
    "Vprime_mean = Vprime.rolling(time=60,center=True,min_periods=1).mean()"
   ]
  },
  {
   "cell_type": "code",
   "execution_count": 6,
   "id": "d20d257c",
   "metadata": {},
   "outputs": [],
   "source": [
    "### Obtaining the total velocity anomalies mean\n",
    "Velprime_mean = (Uprime*Vprime).rolling(time=60,center=True,min_periods=1).mean()"
   ]
  },
  {
   "cell_type": "code",
   "execution_count": 7,
   "id": "76c6da06",
   "metadata": {},
   "outputs": [],
   "source": [
    "Uprime2bar = (Uprime**2).rolling(time=60,center=True,min_periods=1).mean()\n",
    "Vprime2bar = (Vprime**2).rolling(time=60,center=True,min_periods=1).mean()"
   ]
  },
  {
   "cell_type": "code",
   "execution_count": 8,
   "id": "604cf188",
   "metadata": {},
   "outputs": [],
   "source": [
    "#### Obtaining the dx and dy parameters from the grid\n",
    "\n",
    "dataulx = Ugeo['longitude']\n",
    "datauly = Ugeo['latitude']\n",
    "\n",
    "x,y=np.meshgrid(dataulx,datauly)\n",
    "delx = np.gradient(x) #*int(111*1e3)\n",
    "dely = np.gradient(y) #*int(111*1e3)\n",
    "dx = delx[1].mean()*int(111*1e3)\n",
    "dy = dely[0].mean()*int(111*1e3)"
   ]
  },
  {
   "cell_type": "code",
   "execution_count": 9,
   "id": "eded7a6c",
   "metadata": {},
   "outputs": [],
   "source": [
    "### Differentiating velocities and converting from degrees to meters (units must be in S.I, always!)\n",
    "### This is done by dividing the data (which varies in degrees coordinates) by 111*1e3, hence a degree of latitude is aproximatelly 111km\n",
    "\n",
    "dUmean_dy = Usmean.differentiate('latitude')/(111*1e3)\n",
    "dUmean_dx = Usmean.differentiate('longitude')/(111*1e3)\n",
    "\n",
    "dVmean_dy = Vsmean.differentiate('latitude')/(111*1e3)\n",
    "dVmean_dx = Vsmean.differentiate('longitude')/(111*1e3)"
   ]
  },
  {
   "cell_type": "markdown",
   "id": "3737f4ea",
   "metadata": {},
   "source": [
    "The horizontal shear production (HSP) is obtained by the following formulae:\n",
    "\n",
    "$$\n",
    "HSP = - \\bar{u'^{2}}\\frac{d\\bar{u}}{dx} - \\bar{u'v'}\\frac{d\\bar{u}}{dy} - \\bar{v'^{2}}\\frac{d\\bar{v}}{dy} - \\bar{u'v'}\\frac{d\\bar{v}}{dx}\n",
    "$$\n",
    "\n",
    "which will be solved numerically in the next cell"
   ]
  },
  {
   "cell_type": "code",
   "execution_count": 10,
   "id": "37223a24",
   "metadata": {},
   "outputs": [],
   "source": [
    "HSP = (-Uprime2bar*dUmean_dx) - (Velprime_mean*dUmean_dy) - (Vprime2bar*dVmean_dy) - (Velprime_mean*dVmean_dx)"
   ]
  },
  {
   "cell_type": "code",
   "execution_count": 11,
   "id": "7353a0f2",
   "metadata": {},
   "outputs": [],
   "source": [
    "HSP_m = HSP[60:-60,:,:].groupby(\"time.month\").mean(dim=['time']) ### Obtaining monthly means of HSP\n",
    "HSP_s = HSP[60:-60,:,:].groupby(\"time.season\").mean(dim=['time']) ### Obtaining seasonal means of HSP"
   ]
  },
  {
   "cell_type": "code",
   "execution_count": 14,
   "id": "fd10951a",
   "metadata": {},
   "outputs": [
    {
     "data": {
      "text/plain": [
       "<matplotlib.colorbar.Colorbar at 0x7f1eefc2b550>"
      ]
     },
     "execution_count": 14,
     "metadata": {},
     "output_type": "execute_result"
    },
    {
     "data": {
      "image/png": "[encoded data removed]",
      "text/plain": [
       "<Figure size 432x288 with 2 Axes>"
      ]
     },
     "metadata": {
      "needs_background": "light"
     },
     "output_type": "display_data"
    }
   ],
   "source": [
    "c=plt.contourf(HSP['longitude'],HSP['latitude'],HSP_s[2,:,:]*1e7,levels=np.linspace(-.5,.5,50),cmap=cmo.cm.balance)\n",
    "plt.colorbar(c)"
   ]
  },
  {
   "cell_type": "code",
   "execution_count": 15,
   "id": "e75ad0c0",
   "metadata": {},
   "outputs": [],
   "source": [
    "umean = Ugeo.sel(latitude=slice(-32, -26),longitude=slice(308,316))['ugos']\n",
    "vmean = Ugeo.sel(latitude=slice(-32, -26),longitude=slice(308,316))['vgos']"
   ]
  },
  {
   "cell_type": "markdown",
   "id": "5584b030",
   "metadata": {},
   "source": [
    "Now we will compute the gradient of vorticity. Here, the vorticity is the sum of planetary and relative vorticity\n",
    "given by:\n",
    "\n",
    "$$\n",
    " \\Pi = f + \\zeta\n",
    "$$\n",
    "\n",
    "where $f$ is the planetary vorticity and $\\zeta$ is the vertical component of the velocity curl: \n",
    "\n",
    "$$\n",
    " \\zeta = \\frac{dv}{dx} - \\frac{du}{dy}\n",
    "$$\n",
    "\n",
    "Then, the gradient of vorticity is:\n",
    "\n",
    "$$\n",
    "    \\nabla\\Pi = \\frac{d\\Pi}{dx} + \\frac{d\\Pi}{dy}\n",
    "$$\n",
    "\n",
    "and this is "
   ]
  },
  {
   "cell_type": "code",
   "execution_count": 18,
   "id": "d4011a20",
   "metadata": {},
   "outputs": [],
   "source": [
    "dUmean_dy = umean.differentiate('latitude')/(111*1e3) \n",
    "dVmean_dx = vmean.differentiate('longitude')/(111*1e3)\n",
    "\n",
    "dUmm_dy = umean.differentiate('latitude')/(111*1e3)\n",
    "dVmm_dx = vmean.differentiate('longitude')/(111*1e3)\n",
    "\n",
    "relvort = (dVmean_dx - dUmean_dy)\n",
    "\n",
    "relvort2 = np.mean(sw.f(vmean['latitude']))+relvort\n",
    "\n",
    "delwx = relvort2.differentiate('longitude')/(111*1e3)\n",
    "delwy = relvort2.differentiate('latitude')/(111*1e3)\n",
    "    \n",
    "w3 = delwx+delwy\n",
    "#W[i,:,:] = Sn**2+Ss**2-w**2"
   ]
  },
  {
   "cell_type": "code",
   "execution_count": 19,
   "id": "e05928a8",
   "metadata": {},
   "outputs": [
    {
     "data": {
      "image/png": "[encoded data removed]",
      "text/plain": [
       "<Figure size 432x288 with 1 Axes>"
      ]
     },
     "metadata": {
      "needs_background": "light"
     },
     "output_type": "display_data"
    }
   ],
   "source": [
    "c=plt.contourf(w3[0,:,:])"
   ]
  },
  {
   "cell_type": "code",
   "execution_count": null,
   "id": "bbc79ad4",
   "metadata": {},
   "outputs": [],
   "source": []
  }
 ],
 "metadata": {
  "kernelspec": {
   "display_name": "Python 3 (ipykernel)",
   "language": "python",
   "name": "python3"
  },
  "language_info": {
   "codemirror_mode": {
    "name": "ipython",
    "version": 3
   },
   "file_extension": ".py",
   "mimetype": "text/x-python",
   "name": "python",
   "nbconvert_exporter": "python",
   "pygments_lexer": "ipython3",
   "version": "3.9.12"
  }
 },
 "nbformat": 4,
 "nbformat_minor": 5
}
